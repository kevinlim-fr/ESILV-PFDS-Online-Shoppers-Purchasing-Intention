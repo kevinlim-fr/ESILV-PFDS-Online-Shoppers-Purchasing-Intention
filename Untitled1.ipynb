{
 "cells": [
  {
   "cell_type": "code",
   "execution_count": 3,
   "metadata": {},
   "outputs": [],
   "source": [
    "import requests\n",
    "import json\n",
    "import pickle as p\n",
    "import pandas as pd\n",
    "import csv"
   ]
  },
  {
   "cell_type": "code",
   "execution_count": null,
   "metadata": {},
   "outputs": [],
   "source": [
    "Administrative\tAdministrative_Duration\tInformational\tInformational_Duration\tProductRelated\tProductRelated_Duration\tBounceRates\tExitRates\tPageValues\tSpecialDay\tOperatingSystems\tBrowser\tRegion\tTrafficType"
   ]
  },
  {
   "cell_type": "code",
   "execution_count": 8,
   "metadata": {},
   "outputs": [],
   "source": [
    "str=\"administrative,Administrative_Duration,Informational,Informational_Duration,ProductRelated,ProductRelated_Duration,BounceRates,ExitRates,PageValues,SpecialDay,Month,OperatingSystems,Browser,Region,TrafficType,VisitorType,Weekend\"\n",
    "input = \"0,0,0,0,1,0,0.2,0.2,0,0,Feb,1,1,1,1,Returning_Visitor,FALSE\"\n",
    "rowlist = [str,input]\n",
    "with open('request.csv','w',newline='') as file:\n",
    "    requestcsv = csv.writer(file)\n",
    "    requestcsv.writerows(rowlist)"
   ]
  },
  {
   "cell_type": "code",
   "execution_count": null,
   "metadata": {},
   "outputs": [],
   "source": [
    "url = 'http://0.0.0.0:5000/api/'\n",
    "\n",
    "with open('model.pickle', 'rb') as f_model:\n",
    "    model = p.load(f_model) # trained classifier model\n",
    "with open('column_trans.pickle', 'rb') as f_onehotenc:\n",
    "    ohe = p.load(f_onehotenc) # OneHotEncoder object that was used in training\n",
    "with open('scaler.pickle', 'rb') as f_scaler:\n",
    "    scaler = p.load(f_scaler) # OneHotEncoder object that was used in training\n",
    "\n",
    "\n",
    "df = pd.DataFrame(data=array)\n",
    "df = ohe.transform(df)\n",
    "df = scaler.transform(df)\n",
    "\n",
    "j_data = json.dumps(data)\n",
    "headers = {'content-type': 'application/json', 'Accept-Charset': 'UTF-8'}\n",
    "r = requests.post(url, data=j_data, headers=headers)\n",
    "print(r, r.text)\n"
   ]
  }
 ],
 "metadata": {
  "kernelspec": {
   "display_name": "Python 3",
   "language": "python",
   "name": "python3"
  },
  "language_info": {
   "codemirror_mode": {
    "name": "ipython",
    "version": 3
   },
   "file_extension": ".py",
   "mimetype": "text/x-python",
   "name": "python",
   "nbconvert_exporter": "python",
   "pygments_lexer": "ipython3",
   "version": "3.8.3"
  }
 },
 "nbformat": 4,
 "nbformat_minor": 4
}
